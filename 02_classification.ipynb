{
 "cells": [
  {
   "cell_type": "markdown",
   "id": "2ecd67a9-c0f4-4c21-8a2a-423a39536387",
   "metadata": {},
   "source": [
    "# テキスト分類\n",
    "\n",
    "* DistilBERTをFine-tuningしてTwitterデータの感情検出器を作る\n",
    "* angry, love, fear, joy, sadness, surpriseの6感情"
   ]
  },
  {
   "cell_type": "markdown",
   "id": "991e0e9d-eb99-467d-bfee-9105b2f78ea1",
   "metadata": {},
   "source": [
    "## データセット\n",
    "\n",
    "* [emotionsデータセット](https://huggingface.co/datasets/emotion)\n",
    "\n",
    "```\n",
    "Emotion は、怒り、恐れ、喜び、愛、悲しみ、驚きの 6 つの基本的な感情を含む英語の Twitter メッセージのデータセットです。詳細については、論文を参照してください\n",
    "```"
   ]
  },
  {
   "cell_type": "markdown",
   "id": "336a0882-830b-4de0-bcb2-0dbbea82aebb",
   "metadata": {},
   "source": [
    "### Hugging Face Datasets\n",
    "\n",
    "* `list_datasets()` でデータセット一覧を確認できる\n",
    "* `load_dataset()` でダウンロードできる"
   ]
  },
  {
   "cell_type": "code",
   "execution_count": null,
   "id": "9b5a10cc-dcef-4d1c-8dea-c31fa42b7723",
   "metadata": {},
   "outputs": [],
   "source": [
    "from datasets import list_datasets\n",
    "\n",
    "all_datasets = list_datasets()\n",
    "print(f\"There are {len(all_datasets)} datasets currently available on the Hub\")\n",
    "print(f\"The first 10 are: {all_datasets[:10]}\")"
   ]
  },
  {
   "cell_type": "code",
   "execution_count": null,
   "id": "c6a91043-b899-46d1-9dee-3eb3af7e6b2a",
   "metadata": {},
   "outputs": [],
   "source": [
    "from datasets import load_dataset\n",
    "\n",
    "emotions = load_dataset(\"emotion\")"
   ]
  },
  {
   "cell_type": "code",
   "execution_count": null,
   "id": "56329f7a-8d74-4e9a-94d4-f4bf6a3426f5",
   "metadata": {},
   "outputs": [],
   "source": [
    "emotions"
   ]
  },
  {
   "cell_type": "code",
   "execution_count": null,
   "id": "cbcfedf0-7dea-45e6-b674-7e711b2844c5",
   "metadata": {},
   "outputs": [],
   "source": [
    "train_ds = emotions[\"train\"]\n",
    "train_ds"
   ]
  },
  {
   "cell_type": "code",
   "execution_count": null,
   "id": "a20b47b4-c42f-4261-a801-ffc7874c1b91",
   "metadata": {},
   "outputs": [],
   "source": [
    "len(train_ds)"
   ]
  },
  {
   "cell_type": "code",
   "execution_count": null,
   "id": "7c7720c5-de75-4a3a-872e-8bffb73cde58",
   "metadata": {},
   "outputs": [],
   "source": [
    "train_ds[0]"
   ]
  },
  {
   "cell_type": "code",
   "execution_count": null,
   "id": "82163118-82ae-41c9-a147-ae1cfba3c14b",
   "metadata": {},
   "outputs": [],
   "source": [
    "train_ds.column_names"
   ]
  },
  {
   "cell_type": "code",
   "execution_count": null,
   "id": "787d9a85-9d7e-418d-b8aa-b6775964a572",
   "metadata": {},
   "outputs": [],
   "source": [
    "train_ds.features"
   ]
  },
  {
   "cell_type": "code",
   "execution_count": null,
   "id": "cff3d681-f208-4e54-b61c-b4819bdc7a43",
   "metadata": {},
   "outputs": [],
   "source": [
    "train_ds[:5]"
   ]
  },
  {
   "cell_type": "code",
   "execution_count": null,
   "id": "7c8499b5-1251-40fd-bdc9-480477e52e0a",
   "metadata": {},
   "outputs": [],
   "source": [
    "train_ds[\"text\"][:5]"
   ]
  },
  {
   "cell_type": "markdown",
   "id": "2f1c2569-23bb-4771-99fd-30f83a9c6374",
   "metadata": {},
   "source": [
    "### DataFrameへの変換\n",
    "\n",
    "* `set_format()` でDatasetの出力形式を変更できる\n",
    "* `int2str()` でラベルIDを文字列に変換できる"
   ]
  },
  {
   "cell_type": "code",
   "execution_count": null,
   "id": "b82118b1-6a7b-4f69-ad70-e05a1288eb7e",
   "metadata": {},
   "outputs": [],
   "source": [
    "import pandas as pd\n",
    "\n",
    "emotions.set_format(type=\"pandas\")\n",
    "\n",
    "# 出力がpandasのDataFrameになった\n",
    "emotions[\"train\"][0]"
   ]
  },
  {
   "cell_type": "code",
   "execution_count": null,
   "id": "859ab392-a544-429d-8dec-fde4a6bcd082",
   "metadata": {},
   "outputs": [],
   "source": [
    "# trainの全データを取得\n",
    "df = emotions[\"train\"][:]\n",
    "df.head()"
   ]
  },
  {
   "cell_type": "code",
   "execution_count": null,
   "id": "fa5c4c68-5abd-4b79-9d6a-338d686d209d",
   "metadata": {},
   "outputs": [],
   "source": [
    "emotions[\"train\"].features[\"label\"]"
   ]
  },
  {
   "cell_type": "code",
   "execution_count": null,
   "id": "2e4529fb-8762-4a5b-a737-18061ce8541f",
   "metadata": {},
   "outputs": [],
   "source": [
    "emotions[\"train\"].features[\"label\"].int2str([0, 2])"
   ]
  },
  {
   "cell_type": "code",
   "execution_count": null,
   "id": "c40c0899-7081-4651-b759-2a4bf1b7d168",
   "metadata": {},
   "outputs": [],
   "source": [
    "def label_int2str(row):\n",
    "    return emotions[\"train\"].features[\"label\"].int2str(row)\n",
    "\n",
    "df[\"label_name\"] = df[\"label\"].apply(label_int2str)\n",
    "df.head()"
   ]
  },
  {
   "cell_type": "markdown",
   "id": "cfb1c488-2acf-4685-be1d-a2a3746841c0",
   "metadata": {},
   "source": [
    "### クラス分布の確認"
   ]
  },
  {
   "cell_type": "code",
   "execution_count": null,
   "id": "bdc7a1e4-f492-41eb-9f52-6fdd8ffbd205",
   "metadata": {},
   "outputs": [],
   "source": [
    "import matplotlib.pyplot as plt\n",
    "\n",
    "df[\"label_name\"].value_counts(ascending=True).plot.barh()\n",
    "plt.title(\"Frequency of Classes\")\n",
    "plt.show()"
   ]
  },
  {
   "cell_type": "markdown",
   "id": "20decb05-4619-4316-82e5-9d1af05f78a8",
   "metadata": {},
   "source": [
    "### ツイートの長さはどれくらい？\n",
    "\n",
    "* Transformerモデルには最大コンテキストサイズという入力系列長の制限がある\n",
    "* DistilBERTは512トークン"
   ]
  },
  {
   "cell_type": "code",
   "execution_count": null,
   "id": "7454f124-387d-47ac-97b9-1aa0193a8fb2",
   "metadata": {},
   "outputs": [],
   "source": [
    "df[\"text\"].str.split()[0]"
   ]
  },
  {
   "cell_type": "code",
   "execution_count": null,
   "id": "638d4dfc-2450-4673-9070-6020b7150c50",
   "metadata": {},
   "outputs": [],
   "source": [
    "df[\"Words Per Tweet\"] = df[\"text\"].str.split().apply(len)\n",
    "df.boxplot(\"Words Per Tweet\", by=\"label_name\", grid=False, showfliers=False, color=\"black\")\n",
    "plt.suptitle(\"\")\n",
    "plt.xlabel(\"\")\n",
    "plt.show()"
   ]
  },
  {
   "cell_type": "code",
   "execution_count": null,
   "id": "7a174815-e7e8-4c75-a151-8b1db3c3a1ca",
   "metadata": {},
   "outputs": [],
   "source": [
    "# データセットの出力形式を戻す\n",
    "emotions.reset_format()"
   ]
  },
  {
   "cell_type": "markdown",
   "id": "b2803f52-d1d4-42c6-a0c7-73c561428ae1",
   "metadata": {},
   "source": [
    "## テキストからトークンへ\n",
    "\n",
    "* 通常、最適な単語分割はコーパスから学習する\n",
    "* もっともシンプルなやり方は文字トークン化と単語トークン化\n",
    "* この2つのやり方もデータによって変わるので学習と言ってもよさそう"
   ]
  },
  {
   "cell_type": "markdown",
   "id": "4282b619-9c89-43fc-99d2-89504cfcce76",
   "metadata": {},
   "source": [
    "### 文字トークン化"
   ]
  },
  {
   "cell_type": "code",
   "execution_count": null,
   "id": "8ad5d6e5-ce5d-44ab-86b0-410a1aca385a",
   "metadata": {},
   "outputs": [],
   "source": [
    "text = \"Tokenizing text is a core task of NLP.\"\n",
    "tokenized_text = list(text)\n",
    "print(tokenized_text)"
   ]
  },
  {
   "cell_type": "code",
   "execution_count": null,
   "id": "3034cc5c-8b22-49e1-ac2b-42dc3ce4bc0e",
   "metadata": {},
   "outputs": [],
   "source": [
    "print(sorted(set(tokenized_text)))"
   ]
  },
  {
   "cell_type": "code",
   "execution_count": null,
   "id": "aa05594a-36d0-49ac-9bf7-991e4f1eed3a",
   "metadata": {},
   "outputs": [],
   "source": [
    "token2idx = {ch: idx for idx, ch in enumerate(sorted(set(tokenized_text)))}\n",
    "print(token2idx)"
   ]
  },
  {
   "cell_type": "code",
   "execution_count": null,
   "id": "2fc694e5-443e-457a-a929-45264d11ec56",
   "metadata": {},
   "outputs": [],
   "source": [
    "len(token2idx)"
   ]
  },
  {
   "cell_type": "code",
   "execution_count": null,
   "id": "94f52b1c-322f-415a-bd7c-78ea450fe7b7",
   "metadata": {},
   "outputs": [],
   "source": [
    "input_ids = [token2idx[token] for token in tokenized_text]\n",
    "print(input_ids)"
   ]
  },
  {
   "cell_type": "code",
   "execution_count": null,
   "id": "ad6f9c46-c60e-460f-bf2d-28377f13d342",
   "metadata": {},
   "outputs": [],
   "source": [
    "# one-hotベクトルへの変換\n",
    "import torch\n",
    "import torch.nn.functional as F\n",
    "\n",
    "input_ids = torch.tensor(input_ids)\n",
    "one_hot_encodings = F.one_hot(input_ids, num_classes=len(token2idx))\n",
    "one_hot_encodings.shape"
   ]
  },
  {
   "cell_type": "markdown",
   "id": "e1d84f68-3355-4fab-8033-1aecd826a4cd",
   "metadata": {},
   "source": [
    "### サブワードトークン化\n",
    "\n",
    "* 文字トークン化と単語トークン化の中間\n",
    "* コーパスからトークン化を学習する\n",
    "* 頻出単語は単語として使う、そうでないものはより小さな単位に分割する\n",
    "* WordPiece: BERTとDistilBERTのTokenizer\n",
    "* `AutoTokenizer.from_pretrained()` を使うと指定したモデルのTokenizerをロードできる\n",
    "* [Autoがついている場合](https://huggingface.co/docs/transformers/model_doc/auto)はモデル名から自動判定する\n",
    "* モデルに対応するTokenizerを使う必要がある"
   ]
  },
  {
   "cell_type": "code",
   "execution_count": null,
   "id": "80a05480-d830-4661-a231-98f066126953",
   "metadata": {},
   "outputs": [],
   "source": [
    "from transformers import AutoTokenizer\n",
    "\n",
    "model_ckpt = \"distilbert-base-uncased\"\n",
    "tokenizer = AutoTokenizer.from_pretrained(model_ckpt)\n",
    "tokenizer"
   ]
  },
  {
   "cell_type": "code",
   "execution_count": null,
   "id": "628ba838-a95f-4447-9293-dda44204cc6c",
   "metadata": {},
   "outputs": [],
   "source": [
    "# Autoクラスを使わずにモデルごとのクラスも使える\n",
    "from transformers import DistilBertTokenizer\n",
    "\n",
    "distilbert_tokenizer = DistilBertTokenizer.from_pretrained(model_ckpt)\n",
    "distilbert_tokenizer"
   ]
  },
  {
   "cell_type": "markdown",
   "id": "e194451e-a9be-43f5-9285-b607d6878b45",
   "metadata": {},
   "source": [
    "* Tokenizerをメソッドとして使うとinput_idsに変換できる\n",
    "* `convert_ids_to_tokens` を使うとinput_idsをトークンに戻せる"
   ]
  },
  {
   "cell_type": "code",
   "execution_count": null,
   "id": "4a8b31fd-5fea-46a7-bd46-02b7eab01a33",
   "metadata": {},
   "outputs": [],
   "source": [
    "text = \"Tokenizing text is a core task of NLP.\"\n",
    "encoded_text = tokenizer(text)\n",
    "print(encoded_text)"
   ]
  },
  {
   "cell_type": "markdown",
   "id": "55022879-dc29-489a-8f96-3ba8a0d23a7e",
   "metadata": {},
   "source": [
    "* [CLS] と [SEP] のような特別なトークンが付与される（モデルによって異なる）\n",
    "* `##` は分割されたトークン、文字列に変換するときは前のトークンとマージされる\n",
    "* 一般的でない単語は `##` で分割されやすい"
   ]
  },
  {
   "cell_type": "code",
   "execution_count": null,
   "id": "8c0a7dca-50bd-4877-8f0d-a0f2d395b9c9",
   "metadata": {},
   "outputs": [],
   "source": [
    "tokens = tokenizer.convert_ids_to_tokens(encoded_text.input_ids)\n",
    "print(tokens)"
   ]
  },
  {
   "cell_type": "markdown",
   "id": "0af7f041-0b8c-4eb4-8c46-398208df383d",
   "metadata": {},
   "source": [
    "* `convert_to_tokens_to_string()` でトークン列を文字列に変換できる"
   ]
  },
  {
   "cell_type": "code",
   "execution_count": null,
   "id": "f48f28c9-824a-4979-9ed2-c4dd99ec0750",
   "metadata": {},
   "outputs": [],
   "source": [
    "print(tokenizer.convert_tokens_to_string(tokens))"
   ]
  },
  {
   "cell_type": "code",
   "execution_count": null,
   "id": "bbf41547-52a3-4923-ab36-1bcff7811304",
   "metadata": {},
   "outputs": [],
   "source": [
    "# ボキャブラリーサイズ\n",
    "tokenizer.vocab_size"
   ]
  },
  {
   "cell_type": "code",
   "execution_count": null,
   "id": "d0f1b564-0d1c-4dda-9f15-b2662cceea75",
   "metadata": {},
   "outputs": [],
   "source": [
    "# 最大コンテキストサイズ\n",
    "tokenizer.model_max_length"
   ]
  },
  {
   "cell_type": "code",
   "execution_count": null,
   "id": "b4b72402-3a5f-466d-80af-45c09d103ea8",
   "metadata": {},
   "outputs": [],
   "source": [
    "# モデルのforwardパスで期待するフィールド名\n",
    "tokenizer.model_input_names"
   ]
  },
  {
   "cell_type": "markdown",
   "id": "bbc89378-debf-45eb-993e-426f8dd01c76",
   "metadata": {},
   "source": [
    "### コーパス全体のトークン化\n",
    "\n",
    "* DatasetDictのmapを使うと全データをまとめてトークン化できる\n",
    "* attention_maskはパディングされた部分が0になる"
   ]
  },
  {
   "cell_type": "code",
   "execution_count": null,
   "id": "ac022717-9794-40f4-8481-a013b10fcde9",
   "metadata": {},
   "outputs": [],
   "source": [
    "def tokenize(batch):\n",
    "    # input_idsとattention_maskのfeatureが追加される\n",
    "    return tokenizer(batch[\"text\"], padding=True, truncation=True)"
   ]
  },
  {
   "cell_type": "code",
   "execution_count": null,
   "id": "0ba935aa-e924-4b33-ae74-14ff4829b94f",
   "metadata": {},
   "outputs": [],
   "source": [
    "batch = emotions[\"train\"][:2]\n",
    "batch"
   ]
  },
  {
   "cell_type": "code",
   "execution_count": null,
   "id": "413b6995-5e9e-4ce6-98ad-1838e43e7f50",
   "metadata": {},
   "outputs": [],
   "source": [
    "print(tokenize(batch))"
   ]
  },
  {
   "cell_type": "code",
   "execution_count": null,
   "id": "4647b97d-2ef6-4b0b-af6a-2051cb1b3546",
   "metadata": {},
   "outputs": [],
   "source": [
    "# batch_size=Noneを指定すると全データを1つのバッチとみなす\n",
    "emotions_encoded = emotions.map(tokenize, batched=True, batch_size=None)"
   ]
  },
  {
   "cell_type": "code",
   "execution_count": null,
   "id": "51fdf7d9-18ea-4697-92ae-2a745f8139d6",
   "metadata": {},
   "outputs": [],
   "source": [
    "emotions_encoded[\"train\"]"
   ]
  },
  {
   "cell_type": "code",
   "execution_count": null,
   "id": "c1901ee1-02e8-4e29-b711-77eebe19be1d",
   "metadata": {},
   "outputs": [],
   "source": [
    "# 全データで最長の系列をもとにpaddingされるので無駄が多い\n",
    "print(emotions_encoded[\"train\"][0])"
   ]
  },
  {
   "cell_type": "markdown",
   "id": "5a987e4a-a382-4c34-ba57-f3a4a18ce189",
   "metadata": {},
   "source": [
    "## テキスト分類器の学習\n",
    "\n",
    "1. 特徴抽出器として利用\n",
    "2. ファインチューニング"
   ]
  },
  {
   "cell_type": "markdown",
   "id": "6653754b-ba98-489d-8ff5-0cff8eb3b34f",
   "metadata": {},
   "source": [
    "### 特徴抽出器としてのTransformer"
   ]
  },
  {
   "cell_type": "code",
   "execution_count": null,
   "id": "a67d2b85-fb47-4652-ae97-ae42fc3ae88e",
   "metadata": {},
   "outputs": [],
   "source": [
    "from transformers import AutoModel\n",
    "\n",
    "model_ckpt = \"distilbert-base-uncased\"\n",
    "device = torch.device(\"cuda\" if torch.cuda.is_available() else \"cpu\")\n",
    "model = AutoModel.from_pretrained(model_ckpt).to(device)"
   ]
  },
  {
   "cell_type": "code",
   "execution_count": null,
   "id": "67c6bf82-a071-4af2-b91d-f60a1e4a63f4",
   "metadata": {},
   "outputs": [],
   "source": [
    "text = \"this is a test\"\n",
    "inputs = tokenizer(text, return_tensors=\"pt\")\n",
    "inputs"
   ]
  },
  {
   "cell_type": "code",
   "execution_count": null,
   "id": "6a83d662-66d5-418a-9236-02e4a14507d0",
   "metadata": {},
   "outputs": [],
   "source": [
    "inputs['input_ids'].size()"
   ]
  },
  {
   "cell_type": "code",
   "execution_count": null,
   "id": "26078712-85ad-4728-88b9-36ca5e6c9e49",
   "metadata": {},
   "outputs": [],
   "source": [
    "inputs = {k: v.to(device) for k, v in inputs.items()}\n",
    "inputs"
   ]
  },
  {
   "cell_type": "code",
   "execution_count": null,
   "id": "f66c7397-7e1c-47d4-a2b0-3e21ae05093d",
   "metadata": {},
   "outputs": [],
   "source": [
    "with torch.no_grad():\n",
    "    outputs = model(**inputs)\n",
    "outputs"
   ]
  },
  {
   "cell_type": "code",
   "execution_count": null,
   "id": "cbe2a32d-9c81-48ed-9bc2-ed8152f9b82b",
   "metadata": {},
   "outputs": [],
   "source": [
    "# 最後の隠れ状態の出力\n",
    "# 入力の6個のトークンそれぞれに対して768次元のベクトルが出力される\n",
    "# [batch_size, n_tokens, hidden_dim]\n",
    "outputs.last_hidden_state.size()"
   ]
  },
  {
   "cell_type": "code",
   "execution_count": null,
   "id": "96eea7fe-b5b1-44be-a193-106a6084d9af",
   "metadata": {},
   "outputs": [],
   "source": [
    "# 分類では [CLS] トークン（系列の最初）に出てくる隠れ状態だけを使うのが一般的\n",
    "outputs.last_hidden_state[:, 0].size()"
   ]
  },
  {
   "cell_type": "code",
   "execution_count": null,
   "id": "2b42a76a-dfe7-4849-8115-bdf0402388de",
   "metadata": {},
   "outputs": [],
   "source": [
    "# データ全体に対して特徴量を抽出する\n",
    "def extract_hidden_states(batch):\n",
    "    inputs = {k: v.to(device) for k, v in batch.items() if k in tokenizer.model_input_names}\n",
    "    # 最後の隠れ状態を抽出\n",
    "    with torch.no_grad():\n",
    "        last_hidden_state = model(**inputs).last_hidden_state\n",
    "    # [CSL] トークンに対するベクトルを返す\n",
    "    # hidden_stateのfeatureが追加される\n",
    "    return {\"hidden_state\": last_hidden_state[:, 0].cpu().numpy()}"
   ]
  },
  {
   "cell_type": "code",
   "execution_count": null,
   "id": "a5517b8c-3eb3-4d54-8ab6-055b992be5f3",
   "metadata": {},
   "outputs": [],
   "source": [
    "# 出力をnumpyではなくテンソルにするように変更\n",
    "emotions_encoded.set_format(\"torch\", columns=[\"input_ids\", \"attention_mask\", \"label\"])"
   ]
  },
  {
   "cell_type": "code",
   "execution_count": null,
   "id": "a98307b3-3b50-4b6c-bc66-23284063c28c",
   "metadata": {},
   "outputs": [],
   "source": [
    "emotions_encoded[\"train\"][0]"
   ]
  },
  {
   "cell_type": "code",
   "execution_count": null,
   "id": "4ca999aa-138c-46ce-b1b1-73c9e42408b2",
   "metadata": {},
   "outputs": [],
   "source": [
    "# デフォルトでbatch_size=1000が使われる\n",
    "emotions_hidden = emotions_encoded.map(extract_hidden_states, batched=True)\n",
    "emotions_hidden"
   ]
  },
  {
   "cell_type": "code",
   "execution_count": null,
   "id": "001a31a2-5437-41db-b3a5-139f2122175a",
   "metadata": {},
   "outputs": [],
   "source": [
    "emotions_hidden[\"train\"].column_names"
   ]
  },
  {
   "cell_type": "code",
   "execution_count": null,
   "id": "da06d2e6-69ae-46cc-a72f-dc47ef3f57c9",
   "metadata": {},
   "outputs": [],
   "source": [
    "emotions_hidden[\"train\"][0]['hidden_state'].size()"
   ]
  },
  {
   "cell_type": "code",
   "execution_count": null,
   "id": "c333afc5-dd3c-4468-9c62-ece0b3b2553e",
   "metadata": {},
   "outputs": [],
   "source": [
    "# 特徴行列の作成\n",
    "import numpy as np\n",
    "\n",
    "X_train = np.array(emotions_hidden[\"train\"][\"hidden_state\"])\n",
    "X_valid = np.array(emotions_hidden[\"validation\"][\"hidden_state\"])\n",
    "y_train = np.array(emotions_hidden[\"train\"][\"label\"])\n",
    "y_valid = np.array(emotions_hidden[\"validation\"][\"label\"])\n",
    "X_train.shape, X_valid.shape, y_train.shape, y_valid.shape"
   ]
  },
  {
   "cell_type": "code",
   "execution_count": null,
   "id": "33123d88-e3a4-45a2-9b98-81770ce7d08c",
   "metadata": {},
   "outputs": [],
   "source": [
    "# 学習データセットの可視化\n",
    "# UMAPは特徴が[0, 1]区間になるようにスケールするとうまく機能する\n",
    "from umap import UMAP\n",
    "from sklearn.preprocessing import MinMaxScaler\n",
    "\n",
    "# 特徴量を[0, 1]区間にスケールする\n",
    "X_scaled = MinMaxScaler().fit_transform(X_train)\n",
    "X_scaled.shape"
   ]
  },
  {
   "cell_type": "code",
   "execution_count": null,
   "id": "92e342ed-60ba-4c6e-88f3-4044de083cd4",
   "metadata": {},
   "outputs": [],
   "source": [
    "# UMAPの初期化とfit\n",
    "mapper = UMAP(n_components=2, metric=\"cosine\").fit(X_scaled)\n",
    "mapper"
   ]
  },
  {
   "cell_type": "code",
   "execution_count": null,
   "id": "bc4b8328-c749-4014-a4c4-264075ee461b",
   "metadata": {},
   "outputs": [],
   "source": [
    "mapper.embedding_"
   ]
  },
  {
   "cell_type": "code",
   "execution_count": null,
   "id": "02138aea-0e6f-4703-a155-30b0fb2eb8bf",
   "metadata": {},
   "outputs": [],
   "source": [
    "# 2次元埋め込みのDataFrameを作成\n",
    "df_emb = pd.DataFrame(mapper.embedding_, columns=[\"X\", \"Y\"])\n",
    "df_emb[\"label\"] = y_train\n",
    "df_emb.head()"
   ]
  },
  {
   "cell_type": "code",
   "execution_count": null,
   "id": "87d3d56c-3414-4a06-8228-6d65f5c2f69a",
   "metadata": {},
   "outputs": [],
   "source": [
    "# 圧縮されたデータを可視化\n",
    "# 元のDistilBERTは感情分類をするために訓練されたモデルでないので分類できなくて当然\n",
    "# 言語モデルとして訓練されていても多少は感情の違いを考慮できていることがわかる\n",
    "fig, axes = plt.subplots(2, 3, figsize=(7, 5))\n",
    "axes = axes.flatten()\n",
    "cmaps = [\"Greys\", \"Blues\", \"Oranges\", \"Reds\", \"Purples\", \"Greens\"]\n",
    "labels = emotions[\"train\"].features[\"label\"].names\n",
    "\n",
    "for i, (label, cmap) in enumerate(zip(labels, cmaps)):\n",
    "    df_emb_sub = df_emb.query(f\"label == {i}\")\n",
    "    axes[i].hexbin(df_emb_sub[\"X\"], df_emb_sub[\"Y\"], cmap=cmap,\n",
    "                   gridsize=20, linewidths=(0,))\n",
    "    axes[i].set_title(label)\n",
    "    axes[i].set_xticks([]), axes[i].set_yticks([])\n",
    "\n",
    "plt.tight_layout()\n",
    "plt.show()"
   ]
  },
  {
   "cell_type": "code",
   "execution_count": null,
   "id": "f588b10f-e377-4940-a64e-309aadba3337",
   "metadata": {},
   "outputs": [],
   "source": [
    "# 単純な分類器（ロジスティック回帰）の学習\n",
    "# DistilBERTの特徴量からラベルを予測するモデルを訓練する\n",
    "from sklearn.linear_model import LogisticRegression\n",
    "\n",
    "lr_clf = LogisticRegression(max_iter=3000)\n",
    "lr_clf.fit(X_train, y_train)\n",
    "lr_clf.score(X_valid, y_valid)"
   ]
  },
  {
   "cell_type": "code",
   "execution_count": null,
   "id": "425609bb-b9b4-4916-a895-2947c4336f6b",
   "metadata": {},
   "outputs": [],
   "source": [
    "# ベースラインとなるダミー分類器\n",
    "from sklearn.dummy import DummyClassifier\n",
    "\n",
    "dummy_clf = DummyClassifier(strategy=\"most_frequent\")\n",
    "dummy_clf.fit(X_train, y_train)\n",
    "dummy_clf.score(X_valid, y_valid)"
   ]
  },
  {
   "cell_type": "code",
   "execution_count": null,
   "id": "5216f8d6-5734-440d-896e-e9bf9e4568a9",
   "metadata": {},
   "outputs": [],
   "source": [
    "# 混合行列を可視化\n",
    "from sklearn.metrics import ConfusionMatrixDisplay, confusion_matrix\n",
    "\n",
    "def plot_confusion_matrix(y_preds, y_true, labels):\n",
    "    cm = confusion_matrix(y_true, y_preds, normalize=\"true\")\n",
    "    fig, ax = plt.subplots(figsize=(6, 6))\n",
    "    disp = ConfusionMatrixDisplay(confusion_matrix=cm, display_labels=labels)\n",
    "    disp.plot(cmap=\"Blues\", values_format=\".2f\", ax=ax, colorbar=False)\n",
    "    plt.title(\"Normalized confusion matrix\")\n",
    "    plt.show()"
   ]
  },
  {
   "cell_type": "code",
   "execution_count": null,
   "id": "74df32a3-ef60-4a2c-a884-b47afce959a4",
   "metadata": {},
   "outputs": [],
   "source": [
    "y_preds = lr_clf.predict(X_valid)\n",
    "plot_confusion_matrix(y_preds, y_valid, labels)"
   ]
  },
  {
   "cell_type": "markdown",
   "id": "911b9e5c-e023-45df-8be1-a457d64772cb",
   "metadata": {},
   "source": [
    "### TransformerのFine-tuning\n",
    "\n",
    "* 隠れ状態を固定的な特徴量として使わない\n",
    "* 特徴抽出も訓練対象とする\n",
    "* ヘッダが微分可能である必要があるのでLogistic Regressionではなくニューラルネットを使う\n",
    "* Trainer API"
   ]
  },
  {
   "cell_type": "code",
   "execution_count": null,
   "id": "fd42b24d-58be-49fb-a54c-f57a92ced76c",
   "metadata": {},
   "outputs": [],
   "source": [
    "# 事前学習済みモデルのロード\n",
    "from transformers import AutoModelForSequenceClassification\n",
    "\n",
    "model_ckpt = \"distilbert-base-uncased\"\n",
    "num_labels = 6\n",
    "model = AutoModelForSequenceClassification.from_pretrained(model_ckpt, num_labels=num_labels)"
   ]
  },
  {
   "cell_type": "code",
   "execution_count": null,
   "id": "3f5a1998-8c6b-4e95-80cb-cf9199ce4056",
   "metadata": {},
   "outputs": [],
   "source": [
    "# 性能指標の定義\n",
    "from sklearn.metrics import accuracy_score, f1_score\n",
    "\n",
    "def compute_metrics(pred):\n",
    "    # 正解ラベル\n",
    "    labels = pred.label_ids\n",
    "    # 予測ラベル\n",
    "    preds = pred.predictions.argmax(-1)\n",
    "    f1 = f1_score(labels, preds, average=\"weighted\")\n",
    "    acc = accuracy_score(labels, preds)\n",
    "    return {\"accuracy\": acc, \"f1\": f1}"
   ]
  },
  {
   "cell_type": "code",
   "execution_count": null,
   "id": "c55bfa0f-1a9e-45a4-b075-0ccf2ce0b092",
   "metadata": {},
   "outputs": [],
   "source": [
    "# 学習パラメータを定義\n",
    "from transformers import Trainer, TrainingArguments\n",
    "\n",
    "batch_size = 64\n",
    "logging_steps = len(emotions_encoded[\"train\"]) // batch_size\n",
    "model_name = f\"{model_ckpt}-finetuned-emotion\"  # これがHubに登録される名前になる\n",
    "training_args = TrainingArguments(output_dir=model_name,\n",
    "                                  num_train_epochs=2,\n",
    "                                  learning_rate=2e-5,\n",
    "                                  per_device_train_batch_size=batch_size,\n",
    "                                  per_device_eval_batch_size=batch_size,\n",
    "                                  weight_decay=0.01,\n",
    "                                  evaluation_strategy=\"epoch\",\n",
    "                                  disable_tqdm=False,\n",
    "                                  logging_steps=logging_steps,\n",
    "                                  push_to_hub=True, \n",
    "                                  log_level=\"error\")"
   ]
  },
  {
   "cell_type": "code",
   "execution_count": null,
   "id": "d7c17925-5134-412f-9538-09e98fd2133c",
   "metadata": {},
   "outputs": [],
   "source": [
    "import os\n",
    "os.environ[\"TOKENIZERS_PARALLELISM\"] = \"false\""
   ]
  },
  {
   "cell_type": "code",
   "execution_count": null,
   "id": "0f1c9590-e9ff-43db-8637-9e11137052ce",
   "metadata": {},
   "outputs": [],
   "source": [
    "# Trainerで訓練（Fine-tuning）\n",
    "from transformers import Trainer\n",
    "\n",
    "trainer = Trainer(model=model,\n",
    "                  args=training_args, \n",
    "                  compute_metrics=compute_metrics,\n",
    "                  train_dataset=emotions_encoded[\"train\"],\n",
    "                  eval_dataset=emotions_encoded[\"validation\"],\n",
    "                  tokenizer=tokenizer)\n",
    "trainer.train()"
   ]
  },
  {
   "cell_type": "code",
   "execution_count": null,
   "id": "bd736320-c8e0-4a37-a694-4969e10526df",
   "metadata": {},
   "outputs": [],
   "source": [
    "# 検証データに対する予測\n",
    "preds_output = trainer.predict(emotions_encoded[\"validation\"])"
   ]
  },
  {
   "cell_type": "code",
   "execution_count": null,
   "id": "9eb460fd-a0fc-421f-9b3a-caa62db9905d",
   "metadata": {},
   "outputs": [],
   "source": [
    "preds_output"
   ]
  },
  {
   "cell_type": "code",
   "execution_count": null,
   "id": "fb429b77-b168-4abf-a9e8-4f6e47150f9e",
   "metadata": {},
   "outputs": [],
   "source": [
    "preds_output.metrics"
   ]
  },
  {
   "cell_type": "code",
   "execution_count": null,
   "id": "a791c7d7-932b-4866-9ee1-59eb3d635d9a",
   "metadata": {},
   "outputs": [],
   "source": [
    "preds_output.label_ids"
   ]
  },
  {
   "cell_type": "code",
   "execution_count": null,
   "id": "b9a3cc95-1e02-49f9-a411-65c438fc0a26",
   "metadata": {},
   "outputs": [],
   "source": [
    "preds_output.predictions.shape"
   ]
  },
  {
   "cell_type": "code",
   "execution_count": null,
   "id": "2f9ac686-01d8-4101-8711-7e169dfecb7b",
   "metadata": {},
   "outputs": [],
   "source": [
    "y_preds = np.argmax(preds_output.predictions, axis=1)\n",
    "y_preds.shape"
   ]
  },
  {
   "cell_type": "code",
   "execution_count": null,
   "id": "ecc0790b-d546-4dc1-b3bf-919884a91f1b",
   "metadata": {},
   "outputs": [],
   "source": [
    "plot_confusion_matrix(y_preds, y_valid, labels)"
   ]
  },
  {
   "cell_type": "code",
   "execution_count": null,
   "id": "8c5188ab-30ce-43d8-a5d1-b5c242e3f9a3",
   "metadata": {},
   "outputs": [],
   "source": [
    "# エラー分析\n",
    "from torch.nn.functional import cross_entropy\n",
    "\n",
    "def forward_pass_with_label(batch):\n",
    "    # Place all input tensors on the same device as the model\n",
    "    inputs = {k:v.to(device) for k,v in batch.items() if k in tokenizer.model_input_names}\n",
    "\n",
    "    with torch.no_grad():\n",
    "        output = model(**inputs)\n",
    "        pred_label = torch.argmax(output.logits, axis=-1)\n",
    "        loss = cross_entropy(output.logits, batch[\"label\"].to(device), reduction=\"none\")\n",
    "\n",
    "    # Place outputs on CPU for compatibility with other dataset columns   \n",
    "    return {\"loss\": loss.cpu().numpy(), \n",
    "            \"predicted_label\": pred_label.cpu().numpy()}"
   ]
  },
  {
   "cell_type": "code",
   "execution_count": null,
   "id": "ab40985c-0742-4a33-b898-f842d2d1276b",
   "metadata": {},
   "outputs": [],
   "source": [
    "emotions_encoded.set_format(\"torch\", columns=[\"input_ids\", \"attention_mask\", \"label\"])"
   ]
  },
  {
   "cell_type": "code",
   "execution_count": null,
   "id": "d343a4f0-fd63-4d62-a802-ce7de890cc1c",
   "metadata": {},
   "outputs": [],
   "source": [
    "# 損失の値を計算\n",
    "emotions_encoded[\"validation\"] = emotions_encoded[\"validation\"].map(forward_pass_with_label,\n",
    "                                                                    batched=True,\n",
    "                                                                    batch_size=16)"
   ]
  },
  {
   "cell_type": "code",
   "execution_count": null,
   "id": "8eef1d6f-6458-4332-8e53-4d6cbeeeab73",
   "metadata": {},
   "outputs": [],
   "source": [
    "emotions_encoded"
   ]
  },
  {
   "cell_type": "code",
   "execution_count": null,
   "id": "d665f671-e12f-49b0-83ed-7f2b50cf037e",
   "metadata": {},
   "outputs": [],
   "source": [
    "emotions_encoded.set_format(\"pandas\")"
   ]
  },
  {
   "cell_type": "code",
   "execution_count": null,
   "id": "2206186b-b84b-410d-85d2-7838856fe34f",
   "metadata": {},
   "outputs": [],
   "source": [
    "cols = [\"text\", \"label\", \"predicted_label\", \"loss\"]\n",
    "df_test = emotions_encoded[\"validation\"][:][cols]\n",
    "df_test[\"label\"] = df_test[\"label\"].apply(label_int2str)\n",
    "df_test[\"predicted_label\"] = (df_test[\"predicted_label\"].apply(label_int2str))"
   ]
  },
  {
   "cell_type": "code",
   "execution_count": null,
   "id": "7ffe7774-2e1b-4766-8d87-33cbb6af3d0c",
   "metadata": {},
   "outputs": [],
   "source": [
    "df_test.head()"
   ]
  },
  {
   "cell_type": "code",
   "execution_count": null,
   "id": "532b0967-1dcc-469e-a694-430da92e7cce",
   "metadata": {},
   "outputs": [],
   "source": [
    "# lossが大きい（正解との乖離が激しい）データ\n",
    "df_test.sort_values(\"loss\", ascending=False).head(10)"
   ]
  },
  {
   "cell_type": "code",
   "execution_count": null,
   "id": "716f0145-8184-4fd7-b66c-873c99c34d67",
   "metadata": {},
   "outputs": [],
   "source": [
    "# lossが小さい（正解と一致）データ\n",
    "df_test.sort_values(\"loss\", ascending=True).head(10)"
   ]
  },
  {
   "cell_type": "code",
   "execution_count": null,
   "id": "0a87bc15-d12d-47bb-8156-054bafc7c6f9",
   "metadata": {},
   "outputs": [],
   "source": [
    "# モデルの保存と共有\n",
    "trainer.push_to_hub(commit_message=\"Training completed!\")"
   ]
  },
  {
   "cell_type": "code",
   "execution_count": null,
   "id": "a4c8c133-ef89-4646-85f7-09347cba344e",
   "metadata": {},
   "outputs": [],
   "source": [
    "# パイプラインを使って推論\n",
    "from transformers import pipeline\n",
    "\n",
    "model_id = \"f2forest/distilbert-base-uncased-finetuned-emotion\"\n",
    "classifier = pipeline(\"text-classification\", model=model_id)"
   ]
  },
  {
   "cell_type": "code",
   "execution_count": null,
   "id": "68ebf794-2bab-432a-89ff-567a7aea7beb",
   "metadata": {},
   "outputs": [],
   "source": [
    "custom_tweet = \"I saw a movie today and it was really good.\"\n",
    "preds = classifier(custom_tweet, return_all_scores=True)\n",
    "preds"
   ]
  },
  {
   "cell_type": "code",
   "execution_count": null,
   "id": "03ff03b5-0c9d-4522-8cad-bc45b4b2bdd1",
   "metadata": {},
   "outputs": [],
   "source": [
    "preds_df = pd.DataFrame(preds[0])\n",
    "plt.bar(labels, 100 * preds_df[\"score\"], color='C0')\n",
    "plt.title(f'\"{custom_tweet}\"')\n",
    "plt.ylabel(\"Class probability (%)\")\n",
    "plt.show()"
   ]
  }
 ],
 "metadata": {
  "kernelspec": {
   "display_name": "Python 3",
   "language": "python",
   "name": "python3"
  },
  "language_info": {
   "codemirror_mode": {
    "name": "ipython",
    "version": 3
   },
   "file_extension": ".py",
   "mimetype": "text/x-python",
   "name": "python",
   "nbconvert_exporter": "python",
   "pygments_lexer": "ipython3",
   "version": "3.9.13"
  }
 },
 "nbformat": 4,
 "nbformat_minor": 5
}
