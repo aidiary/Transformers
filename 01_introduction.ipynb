{
 "cells": [
  {
   "cell_type": "markdown",
   "id": "3895228b-3a08-46d2-8795-52f9b60a98f6",
   "metadata": {},
   "source": [
    "# Transformerの応用を巡る旅"
   ]
  },
  {
   "cell_type": "code",
   "execution_count": null,
   "id": "85134ca4-625e-4f17-9ed5-c2369485522f",
   "metadata": {},
   "outputs": [],
   "source": [
    "text = \"\"\"Dear Amazon, last week I ordered an Optimus Prime action figure \\\n",
    "from your online store in Germany. Unfortunately, when I opened the package, \\\n",
    "I discovered to my horror that I had been sent an action figure of Megatron \\\n",
    "instead! As a lifelong enemy of the Decepticons, I hope you can understand my \\\n",
    "dilemma. To resolve the issue, I demand an exchange of Megatron for the \\\n",
    "Optimus Prime figure I ordered. Enclosed are copies of my records concerning \\\n",
    "this purchase. I expect to hear from you soon. Sincerely, Bumblebee.\"\"\""
   ]
  },
  {
   "cell_type": "markdown",
   "id": "fd883ac9-8984-41dd-bd8e-e5838b516442",
   "metadata": {},
   "source": [
    "```\n",
    "Amazon 様、先週、ドイツのオンライン ストアでオプティマス プライムのアクション フィギュアを注文しました。残念ながら、パッケージを開けたとき、代わりにメガトロンのアクション フィギュアが送られてきたことに気がつきました。ディセプティコンの生涯の敵として、私のジレンマを理解していただければ幸いです。この問題を解決するために、注文したオプティマス プライムのフィギュアとメガトロンの交換を要求します。この購入に関する私の記録のコピーが同封されています。すぐにご連絡をお待ちしております。敬具、バンブルビー。\n",
    "```"
   ]
  },
  {
   "cell_type": "code",
   "execution_count": null,
   "id": "ce58c879-8b76-4aa4-a447-2d3ba2f7359c",
   "metadata": {},
   "outputs": [],
   "source": [
    "from transformers import pipeline"
   ]
  },
  {
   "cell_type": "markdown",
   "id": "8d87c376-f9ab-4229-b7ba-a5e6eb3c9d92",
   "metadata": {},
   "source": [
    "## テキスト分類"
   ]
  },
  {
   "cell_type": "code",
   "execution_count": null,
   "id": "c64337f5-a3a3-47e1-a1f3-a8255d43030d",
   "metadata": {},
   "outputs": [],
   "source": [
    "classifier = pipeline(\"text-classification\",\n",
    "                      model=\"distilbert-base-uncased-finetuned-sst-2-english\")"
   ]
  },
  {
   "cell_type": "code",
   "execution_count": null,
   "id": "87114601-a636-45f8-8190-5ac113e42f73",
   "metadata": {},
   "outputs": [],
   "source": [
    "import pandas as pd\n",
    "\n",
    "outputs = classifier(text)\n",
    "outputs"
   ]
  },
  {
   "cell_type": "code",
   "execution_count": null,
   "id": "a0677091-c419-4ec2-92ae-1b20d4c04d9e",
   "metadata": {},
   "outputs": [],
   "source": [
    "pd.DataFrame(outputs)"
   ]
  },
  {
   "cell_type": "markdown",
   "id": "128256d9-ef9e-4eb7-a0b6-fcd29037e01c",
   "metadata": {},
   "source": [
    "## 固有表現抽出（Named Entity Recognition: NER）"
   ]
  },
  {
   "cell_type": "code",
   "execution_count": null,
   "id": "1425d621-4c7d-44b9-bfaf-8a6d7941bace",
   "metadata": {},
   "outputs": [],
   "source": [
    "ner_tagger = pipeline(\"ner\",\n",
    "                      model=\"dbmdz/bert-large-cased-finetuned-conll03-english\",\n",
    "                      aggregation_strategy=\"simple\")"
   ]
  },
  {
   "cell_type": "code",
   "execution_count": null,
   "id": "069dd5ff-217d-42ab-8f0f-3d30eee25fa0",
   "metadata": {},
   "outputs": [],
   "source": [
    "outputs = ner_tagger(text)"
   ]
  },
  {
   "cell_type": "code",
   "execution_count": null,
   "id": "e53e96da-38db-4338-9b44-98a2fa3e08a7",
   "metadata": {},
   "outputs": [],
   "source": [
    "# ORG（組織）\n",
    "# LOC（場所）\n",
    "# PER（人）\n",
    "# MISC（その他）\n",
    "pd.DataFrame(outputs)"
   ]
  },
  {
   "cell_type": "markdown",
   "id": "a4c11636-8824-430c-b920-bb027983f987",
   "metadata": {},
   "source": [
    "## 質問応答"
   ]
  },
  {
   "cell_type": "code",
   "execution_count": null,
   "id": "664d24e2-e7e6-467d-a432-dc1965cd339f",
   "metadata": {},
   "outputs": [],
   "source": [
    "reader = pipeline(\"question-answering\",\n",
    "                  model=\"distilbert-base-cased-distilled-squad\")\n",
    "question = \"What does the customer want?\"\n",
    "outputs = reader(question=question, context=text)\n",
    "outputs"
   ]
  },
  {
   "cell_type": "code",
   "execution_count": null,
   "id": "e214dde7-2c90-40e9-a6aa-bef961de4a09",
   "metadata": {},
   "outputs": [],
   "source": [
    "pd.DataFrame([outputs])"
   ]
  },
  {
   "cell_type": "markdown",
   "id": "f855e05d-458c-439f-b5a5-3be0e538ac66",
   "metadata": {},
   "source": [
    "## 要約"
   ]
  },
  {
   "cell_type": "code",
   "execution_count": null,
   "id": "86980715-0fe0-4905-81a0-9030a9550081",
   "metadata": {},
   "outputs": [],
   "source": [
    "summarizer = pipeline(\"summarization\",\n",
    "                      model=\"sshleifer/distilbart-cnn-12-6\")\n",
    "outputs = summarizer(text, max_length=56, clean_up_tokenization_spaces=True)\n",
    "outputs[0][\"summary_text\"]"
   ]
  },
  {
   "cell_type": "markdown",
   "id": "7ffacb31-baf2-404f-9534-2c929fc4dcae",
   "metadata": {},
   "source": [
    "## 翻訳"
   ]
  },
  {
   "cell_type": "code",
   "execution_count": null,
   "id": "b2a72071-9884-4ac4-ac67-9e26e9d11afa",
   "metadata": {},
   "outputs": [],
   "source": [
    "translator = pipeline(\"translation_en_to_de\",\n",
    "                      model=\"Helsinki-NLP/opus-mt-en-de\")"
   ]
  },
  {
   "cell_type": "code",
   "execution_count": null,
   "id": "2733713f-cd27-4a96-80ac-00e8ffcc6093",
   "metadata": {},
   "outputs": [],
   "source": [
    "outputs = translator(text, clean_up_tokenization_spaces=True, min_length=100)\n",
    "outputs[0][\"translation_text\"]"
   ]
  },
  {
   "cell_type": "markdown",
   "id": "993c86a5-f0f4-486c-9eaf-42832877dcb4",
   "metadata": {},
   "source": [
    "## テキスト生成"
   ]
  },
  {
   "cell_type": "code",
   "execution_count": null,
   "id": "259898e7-b777-4344-ba97-591b56c81c99",
   "metadata": {},
   "outputs": [],
   "source": [
    "generator = pipeline(\"text-generation\",\n",
    "                     model=\"gpt2\")"
   ]
  },
  {
   "cell_type": "code",
   "execution_count": null,
   "id": "a3a9dde5-7d86-4494-8f96-963e5702b5bc",
   "metadata": {},
   "outputs": [],
   "source": [
    "response = \"Dear Bumblebee, I am sorry to hear that your order was mixed up.\"\n",
    "prompt = text + \"\\n\\nCustomer service response:\\n\" + response\n",
    "print(prompt)"
   ]
  },
  {
   "cell_type": "code",
   "execution_count": null,
   "id": "a44e486b-9d89-400e-b1c1-6619a8aaa2e2",
   "metadata": {},
   "outputs": [],
   "source": [
    "outputs = generator(prompt, max_length=200)\n",
    "print(outputs[0][\"generated_text\"])"
   ]
  }
 ],
 "metadata": {
  "kernelspec": {
   "display_name": "Python 3",
   "language": "python",
   "name": "python3"
  },
  "language_info": {
   "codemirror_mode": {
    "name": "ipython",
    "version": 3
   },
   "file_extension": ".py",
   "mimetype": "text/x-python",
   "name": "python",
   "nbconvert_exporter": "python",
   "pygments_lexer": "ipython3",
   "version": "3.9.13"
  }
 },
 "nbformat": 4,
 "nbformat_minor": 5
}
