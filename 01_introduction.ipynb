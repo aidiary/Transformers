{
 "cells": [
  {
   "cell_type": "markdown",
   "id": "3895228b-3a08-46d2-8795-52f9b60a98f6",
   "metadata": {},
   "source": [
    "# Transformerの応用を巡る旅"
   ]
  },
  {
   "cell_type": "code",
   "execution_count": null,
   "id": "85134ca4-625e-4f17-9ed5-c2369485522f",
   "metadata": {},
   "outputs": [],
   "source": [
    "text = \"\"\"Dear Amazon, last week I ordered an Optimus Prime action figure \\\n",
    "from your online store in Germany. Unfortunately, when I opened the package, \\\n",
    "I discovered to my horror that I had been sent an action figure of Megatron \\\n",
    "instead! As a lifelong enemy of the Decepticons, I hope you can understand my \\\n",
    "dilemma. To resolve the issue, I demand an exchange of Megatron for the \\\n",
    "Optimus Prime figure I ordered. Enclosed are copies of my records concerning \\\n",
    "this purchase. I expect to hear from you soon. Sincerely, Bumblebee.\"\"\""
   ]
  },
  {
   "cell_type": "markdown",
   "id": "fd883ac9-8984-41dd-bd8e-e5838b516442",
   "metadata": {},
   "source": [
    "```\n",
    "Amazon 様、先週、ドイツのオンライン ストアでオプティマス プライムのアクション フィギュアを注文しました。残念ながら、パッケージを開けたとき、代わりにメガトロンのアクション フィギュアが送られてきたことに気がつきました。ディセプティコンの生涯の敵として、私のジレンマを理解していただければ幸いです。この問題を解決するために、注文したオプティマス プライムのフィギュアとメガトロンの交換を要求します。この購入に関する私の記録のコピーが同封されています。すぐにご連絡をお待ちしております。敬具、バンブルビー。\n",
    "```"
   ]
  },
  {
   "cell_type": "markdown",
   "id": "8d87c376-f9ab-4229-b7ba-a5e6eb3c9d92",
   "metadata": {},
   "source": [
    "## テキスト分類"
   ]
  },
  {
   "cell_type": "code",
   "execution_count": null,
   "id": "c64337f5-a3a3-47e1-a1f3-a8255d43030d",
   "metadata": {},
   "outputs": [],
   "source": [
    "from transformers import pipeline\n",
    "\n",
    "classifier = pipeline(\"text-classification\")"
   ]
  },
  {
   "cell_type": "code",
   "execution_count": null,
   "id": "87114601-a636-45f8-8190-5ac113e42f73",
   "metadata": {},
   "outputs": [],
   "source": [
    "import pandas as pd\n",
    "\n",
    "outputs = classifier(text)\n",
    "outputs"
   ]
  },
  {
   "cell_type": "code",
   "execution_count": null,
   "id": "a0677091-c419-4ec2-92ae-1b20d4c04d9e",
   "metadata": {},
   "outputs": [],
   "source": [
    "pd.DataFrame(outputs)"
   ]
  },
  {
   "cell_type": "markdown",
   "id": "128256d9-ef9e-4eb7-a0b6-fcd29037e01c",
   "metadata": {},
   "source": [
    "## 固有表現抽出（Named Entity Recognition: NER）"
   ]
  },
  {
   "cell_type": "code",
   "execution_count": null,
   "id": "1425d621-4c7d-44b9-bfaf-8a6d7941bace",
   "metadata": {},
   "outputs": [],
   "source": [
    "ner_tagger = pipeline(\"ner\", aggregation_strategy=\"simple\")"
   ]
  },
  {
   "cell_type": "code",
   "execution_count": null,
   "id": "069dd5ff-217d-42ab-8f0f-3d30eee25fa0",
   "metadata": {},
   "outputs": [],
   "source": [
    "outputs = ner_tagger(text)\n",
    "outputs"
   ]
  },
  {
   "cell_type": "code",
   "execution_count": null,
   "id": "e53e96da-38db-4338-9b44-98a2fa3e08a7",
   "metadata": {},
   "outputs": [],
   "source": [
    "# ORG（組織）\n",
    "# LOC（場所）\n",
    "# PER（人）\n",
    "# MISC（その他）\n",
    "pd.DataFrame(outputs)"
   ]
  }
 ],
 "metadata": {
  "kernelspec": {
   "display_name": "Python 3",
   "language": "python",
   "name": "python3"
  },
  "language_info": {
   "codemirror_mode": {
    "name": "ipython",
    "version": 3
   },
   "file_extension": ".py",
   "mimetype": "text/x-python",
   "name": "python",
   "nbconvert_exporter": "python",
   "pygments_lexer": "ipython3",
   "version": "3.9.13"
  }
 },
 "nbformat": 4,
 "nbformat_minor": 5
}
